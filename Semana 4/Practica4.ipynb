{
 "cells": [
  {
   "cell_type": "markdown",
   "metadata": {},
   "source": [
    "Decir que el mosquito vuelve a estar sano es poco probable y no tiene mucho sentido en este modelo porque el tiempo de vida es muy similar al tiempo de la información.\n",
    "\n",
    "$\\gamma$"
   ]
  },
  {
   "cell_type": "markdown",
   "metadata": {},
   "source": [
    "# Modelos Epidemiológicos - Malaria\n",
    "## Modelo físico diagramático\n",
    "- Humanos\n",
    "\t- $N_h$: Cantidad total de humanos tenidos en cuenta\n",
    "\t\t- $s(t)=1-i(t)$: Proporción de humanos sanos o susceptibles\n",
    "\t\t- $i(t)=\\frac{I(t)}{N_h}$: Proporcion de humanos infectados\n",
    "\t\t\t- $I(t)$: Cantidad de humanos infectados\n",
    "- Mosquitos\n",
    "\t- $N_m$: Cantidad total de mosquitos tenidos en cuenta\n",
    "\t\t- $v(t)$: Cantidad total de mosquitos sanos\n",
    "\t\t- $a(t)$: Cantidad total de mosquitos infectados\n",
    "\n",
    "![image.png](img/image.png)\n",
    "\n",
    "Constantes:\n",
    "- $\\beta _h$: Tasa de contagio de humanos\n",
    "- $\\beta _m$: Tasa de contagio de mosquitos\n",
    "- $\\gamma _h$: Tasa de recuperación de humanos\n",
    "- $\\gamma _h$: Tasa de recuperación de mosquitos\n",
    "\n",
    "## Modelo matemático\n",
    "### Humanos\n",
    "$\\frac{ds}{dt}=\\gamma _h i - \\beta _h a s$\n",
    "\n",
    "$\\frac{di}{dt}=\\beta _h a s - \\gamma _h i $\n",
    "\n",
    "### Mosquitos\n",
    "$\\frac{dv}{dt}=\\gamma _m a  - \\beta _m i  v$\n",
    "\n",
    "$\\frac{da}{dt}=\\beta _m i v - \\gamma _m a $"
   ]
  },
  {
   "cell_type": "code",
   "execution_count": 2,
   "metadata": {},
   "outputs": [],
   "source": [
    "import sympy as sp\n",
    "import numpy as np\n",
    "import matplotlib.pyplot as plt\n",
    "gamma_h, gamma_m, beta_h, beta_m = 0, 0, 0, 0"
   ]
  },
  {
   "cell_type": "code",
   "execution_count": 3,
   "metadata": {},
   "outputs": [],
   "source": [
    "# Defino derivadas de Humanos\n",
    "def ds_dt(i, s, a):\n",
    "\treturn gamma_h * i - beta_h * a * s\n",
    "\n",
    "def di_dt(i, s, a):\n",
    "\treturn beta_h * a * s - gamma_h * i\n",
    "\n",
    "# Defino derivadas de Mosquitos\n",
    "def dv_dt(v, a, i):\n",
    "\treturn gamma_m * a - beta_m * i * v\n",
    "\n",
    "def da_dt(v, a, i):\n",
    "\treturn beta_m * i * v - gamma_m * a"
   ]
  },
  {
   "cell_type": "code",
   "execution_count": 4,
   "metadata": {},
   "outputs": [],
   "source": [
    "def euler(ts, i_s, a_s):\n",
    "\tdt = ts[1] - ts[0]\n",
    "\t\n",
    "\tv_s = [1-a_s[0]]\n",
    "\ts_s = [1-i_s[0]]\n",
    "\tfor i in range(len(ts[1:])):\n",
    "\t\ti = i_s[-1]\n",
    "\t\ta = a_s[-1]\n",
    "\t\tv = v_s[-1]\n",
    "\t\ts = s_s[-1]\n",
    "\t\ta_s.append(a + dt * da_dt(v, a, i))\n",
    "\t\ti_s.append(i + dt * di_dt(i, s, a))\n",
    "\t\tv_s.append(v + dt * dv_dt(v, a, i))\n",
    "\t\ts_s.append(s + dt * ds_dt(i, s, a))\n",
    "\n",
    "\treturn s_s, i_s, v_s, a_s\n",
    "\t"
   ]
  },
  {
   "cell_type": "markdown",
   "metadata": {},
   "source": [
    "## Actividades\n",
    "### Estabilidad del sistema en los puntos de equilibrio del sistema\n",
    "#### $i(0)=0 ~ \\text{y} ~ a(0)=0$\n",
    "\n",
    "Si no hay mosquitos infectados o humanos infectados quiere decir que la enfermedad no está presente, por lo tanto las cuatro derivadas siempre serán 0 para todo t con el modelo tal como esta.\n",
    "\n",
    "#### $i(0)\\neq 0 ~ \\text{y} ~ a(0) \\neq 0$\n",
    "\n",
    "$\\frac{di}{dt} = \\beta _h (1-i)a - \\gamma _h i$\n",
    "\n",
    "$0 = \\beta _h (1-i)a - \\gamma _h i$\n",
    "\n",
    "$\\beta _h a - \\beta _h i a= \\gamma _h i$\n",
    "\n",
    "$\\beta _h a = \\gamma _h i + \\beta _h i a$\n",
    "\n",
    "$\\beta _h a = (\\gamma _h  + \\beta _h a)i$\n",
    "\n",
    "$\\frac{\\beta _h a}{\\gamma _h  + \\beta _h a} = i$\n",
    "\n",
    "\n",
    "\n",
    "\n",
    "\n",
    "\n",
    "\n",
    "--------------\n",
    "\n",
    "$\\frac{da}{dt} = \\beta _m (1-a)i - \\gamma _m a$\n",
    "\n",
    "$\\beta _m (1-a)i = \\gamma _m a$\n",
    "\n",
    "$i = \\frac{\\gamma _m a}{\\beta _m (1-a)}$\n",
    "\n",
    "------\n",
    "$\\frac{\\beta _h a}{\\gamma _h  + \\beta _h a} = \\frac{\\gamma _h a}{\\beta _m (1-a)}$\n",
    "\n",
    "- $i = 0~,~ a = 0$"
   ]
  },
  {
   "cell_type": "code",
   "execution_count": 5,
   "metadata": {},
   "outputs": [
    {
     "name": "stdout",
     "output_type": "stream",
     "text": [
      "i = 0.14285714285714282\n",
      "a = 0.0666666666666667\n"
     ]
    }
   ],
   "source": [
    "beta_h = 1\n",
    "gamma_h = 0.4\n",
    "beta_m = 1\n",
    "gamma_m = 2\n",
    "\n",
    "i = (beta_h * beta_m - gamma_h * gamma_m) / (beta_m * (gamma_h + beta_h))\n",
    "# i\n",
    "\n",
    "a = sp.Symbol('a')\n",
    "\n",
    "# sol = sp.solve(i, (beta_h * a)/(gamma_h + (beta_h * a)))\n",
    "sol = sp.solve(sp.Eq(i, (gamma_m * a)/(beta_m * (1-a))))\n",
    "\n",
    "a = sol[0]\n",
    "print(f\"i = {i}\\na = {a}\")"
   ]
  },
  {
   "cell_type": "markdown",
   "metadata": {},
   "source": [
    "- $i \\approx 0.1429~,~ a \\approx 0.0667$"
   ]
  },
  {
   "cell_type": "code",
   "execution_count": 6,
   "metadata": {},
   "outputs": [],
   "source": [
    "i_s = [i]\n",
    "a_s = [a]\n",
    "\n",
    "ts = np.arange(0, 2 * 365, 0.01)\n",
    "s_s, i_s, v_s, a_s = euler(ts, i_s, a_s)"
   ]
  },
  {
   "cell_type": "code",
   "execution_count": 7,
   "metadata": {},
   "outputs": [
    {
     "data": {
      "image/png": "[encoded data removed]",
      "text/plain": [
       "<Figure size 640x480 with 1 Axes>"
      ]
     },
     "metadata": {},
     "output_type": "display_data"
    }
   ],
   "source": [
    "plt.title(\"Evolución del sistema con los puntos críticos\")\n",
    "plt.plot(ts, s_s, label=\"$s_s$\")\n",
    "plt.plot(ts, i_s, label=\"$i_s$\")\n",
    "plt.plot(ts, a_s, label=\"$a_s$\")\n",
    "plt.plot(ts, v_s, label='$v_s$')\n",
    "plt.legend()\n",
    "plt.show()"
   ]
  },
  {
   "cell_type": "markdown",
   "metadata": {},
   "source": [
    "## 3.\n",
    "Obtenga la evolución del sistema a partir de diferentes condiciones iniciales. Proponga el conjunto de condiciones iniciales que, a su criterio, mejor expliquen la reaparición año a año de brotes epidémicos de la enfermedad en determinadas zonas del  África Subsahariana."
   ]
  },
  {
   "cell_type": "code",
   "execution_count": 13,
   "metadata": {},
   "outputs": [],
   "source": [
    "D_h = ((4 * 7) + (2 * 7)) / 2\n",
    "# gamma_h = 1 / D_h\n",
    "gamma_h = 365/180\n",
    "\n",
    "D_m = 14\n",
    "# gamma_m = 1 / D_m\n",
    "gamma_m = 365/20\n",
    "\n",
    "\n",
    "\n",
    "beta_h = 10 # tasa de contagio para humanos\n",
    "beta_m = 30 # tasa de contagio para mosquitos\n",
    "\n",
    "i = 0.001\n",
    "a = 0.09\n",
    "\n",
    "ts = np.arange(0, 2 * 365, 0.01)\n",
    "\n",
    "i_s = [i]\n",
    "a_s = [a]\n",
    "\n",
    "s_s, i_s, v_s, a_s = euler(ts, i_s, a_s)"
   ]
  },
  {
   "cell_type": "code",
   "execution_count": 14,
   "metadata": {},
   "outputs": [
    {
     "data": {
      "image/png": "[encoded data removed]",
      "text/plain": [
       "<Figure size 640x480 with 1 Axes>"
      ]
     },
     "metadata": {},
     "output_type": "display_data"
    }
   ],
   "source": [
    "plt.title(\"Evolución de la malaria con condiciones de África\")\n",
    "plt.plot(ts, s_s, label=\"$s_s$\")\n",
    "plt.plot(ts, i_s, label=\"$i_s$\")\n",
    "plt.plot(ts, a_s, label=\"$a_s$\")\n",
    "plt.plot(ts, v_s, label='$v_s$')\n",
    "plt.legend()\n",
    "plt.show()"
   ]
  },
  {
   "cell_type": "markdown",
   "metadata": {},
   "source": [
    "## 4.\n",
    "Genere el modelo físico diagramático que, en términos generales, le permita incluir la siguiente consideración: “Cuando un individuo ha sido infectado una vez con malaria, tiende a adquirir cierta inmunidad frente a la infecci ́on de futuras inoculaciones de la misma cepa de pl ́asmido, haciendo que sean menos probables y/o menos severas las futuras infecciones”\n",
    "\n",
    "![Modelo físico diagramático que incluye inmunidad](img/pto4.png)"
   ]
  },
  {
   "cell_type": "markdown",
   "metadata": {},
   "source": [
    "## 5.\n",
    "A partir del final de la estación hmeda comienza la mortandad masiva de los mosquitos:\n",
    "- Existe cierto período inicial en el cual el plásmido se encuentra en un estado inmaduro y por lo tanto en ese lapso por m ́as que el mosquito se encuentre infectado con el plásmido, si pica a un humano, es muy poco probable que lo infecte.\n",
    "    - ***Latencia para mosquitos***\n",
    "- En las personas picadas por mosquitos infectados se verifica un período de latencia antes de que se manifiesten síntomas de infección\n",
    "    - ***Latencia para personas***\n",
    "- A partir del final de la estación húmeda comienza la mortandad masiva de los mosquitos.\n",
    "    - ***$\\mu _v$***\n",
    "\n",
    "## Modelo matemático\n",
    "### Humanos\n",
    "$\\frac{ds}{dt}=\\gamma _h i - \\beta _h a s$\n",
    "\n",
    "$\\frac{de}{dt}=\\beta _h a s - \\sigma _h e$\n",
    "\n",
    "$\\frac{di}{dt}=\\sigma _h e - \\gamma _h i$\n",
    "\n",
    "### Mosquitos\n",
    "$\\frac{dv}{dt}=\\gamma _m a  - \\beta _m i  v - \\mu _m v$\n",
    "\n",
    "$\\frac{dl}{dt}=\\beta _h i v - \\sigma _m l - \\mu _m l$\n",
    "\n",
    "$\\frac{da}{dt}=\\sigma _m l - \\gamma _m a - \\mu _m a$"
   ]
  },
  {
   "cell_type": "code",
   "execution_count": 10,
   "metadata": {},
   "outputs": [],
   "source": [
    "# Defino derivadas de Humanos\n",
    "def ds_dt_seis(i, s, a, e):\n",
    "\treturn gamma_h * i - beta_h * a * s\n",
    "\n",
    "def de_dt_seis(i, s, a, e):\n",
    "\treturn beta_h * a * s - sigma_h * e\n",
    "\n",
    "def di_dt_seis(i, s, a, e):\n",
    "\treturn  sigma_h * e - gamma_h * i\n",
    "\n",
    "# Defino derivadas de Mosquitos\n",
    "def dv_dt_seis(v, a, i, l, mu_m):\n",
    "\treturn gamma_m * a - beta_m * i * v - mu_m * v\n",
    "\n",
    "def dl_dt_seis(v, a, i, l, mu_m):\n",
    "\treturn beta_m * i * v - sigma_m * l - mu_m * l\n",
    "\n",
    "def da_dt_seis(v, a, i, l, mu_m):\n",
    "\treturn  sigma_m * l - gamma_m * a - mu_m * a\n",
    "\n",
    "def mu(t):\n",
    "    amplitud = 0.2\n",
    "    periodo = 365\n",
    "    mu = amplitud * np.sin(2 * np.pi * t / periodo)\n",
    "    return np.maximum(mu, 0.01)\n",
    "\n",
    "def euler_sis(ts, i_s, a_s):\n",
    "\tdt = ts[1] - ts[0]\n",
    "\t\n",
    "\te_s = [0]\n",
    "\tl_s = [0]\n",
    "\tv_s = [1-a_s[0]-l_s[0]]\n",
    "\ts_s = [1-i_s[0]-e_s[0]]\n",
    "\tfor i in range(len(ts[1:])):\n",
    "\t\ti = i_s[-1]\n",
    "\t\ta = a_s[-1]\n",
    "\t\tl = l_s[-1]\n",
    "\t\te = e_s[-1]\n",
    "\t\tv = v_s[-1]\n",
    "\t\ts = s_s[-1]\n",
    "\t\t\n",
    "\t\ta_s.append(a + dt * da_dt_seis(v, a, i, l, mu(i)))\n",
    "\t\ti_s.append(i + dt * di_dt_seis(i, s, a, e))\n",
    "\t\tl_s.append(l + dt * dl_dt_seis(v, a, i, e, mu(i)))\n",
    "\t\te_s.append(e + dt * de_dt_seis(i, s, a, e))\n",
    "\t\tv_s.append(v + dt * dv_dt_seis(v, a, i, l, mu(i)))\n",
    "\t\ts_s.append(s + dt * ds_dt_seis(i, s, a, l))\n",
    "\n",
    "\treturn s_s, i_s, v_s, a_s, l_s, e_s"
   ]
  },
  {
   "cell_type": "code",
   "execution_count": 11,
   "metadata": {},
   "outputs": [],
   "source": [
    "# Tiempo de latencia mosquito propuesto: 2 dias\n",
    "sigma_m = 1 / 2\n",
    "\n",
    "# Tiempo de latencia humano propuesto: 5 dias\n",
    "sigma_h = 1 / 5\n",
    "\n",
    "ts = np.arange(0, 2 * 365, 0.01)\n",
    "\n",
    "gamma_h = 1\n",
    "gamma_m = 2\n",
    "\n",
    "beta_h = 1.2 # tasa de contagio para humanos\n",
    "beta_m = 2.7 # tasa de contagio para mosquitos\n",
    "\n",
    "i = 0.14\n",
    "a = 0.09\n",
    "\n",
    "\n",
    "i_s = [i]\n",
    "a_s = [a]\n",
    "\n",
    "s_s, i_s, v_s, a_s, l_s, e_s = euler_sis(ts, i_s, a_s)"
   ]
  },
  {
   "cell_type": "code",
   "execution_count": 12,
   "metadata": {},
   "outputs": [
    {
     "data": {
      "image/png": "[encoded data removed]",
      "text/plain": [
       "<Figure size 640x480 with 1 Axes>"
      ]
     },
     "metadata": {},
     "output_type": "display_data"
    }
   ],
   "source": [
    "plt.title(\"Evolución de la malaria con condiciones de África\")\n",
    "plt.plot(ts, s_s, label=\"$s_s$\")\n",
    "plt.plot(ts, i_s, label=\"$i_s$\")\n",
    "plt.plot(ts, a_s, label=\"$a_s$\")\n",
    "plt.plot(ts, v_s, label='$v_s$')\n",
    "plt.legend()\n",
    "plt.show()"
   ]
  },
  {
   "cell_type": "markdown",
   "metadata": {},
   "source": []
  }
 ],
 "metadata": {
  "kernelspec": {
   "display_name": "BIO",
   "language": "python",
   "name": "python3"
  },
  "language_info": {
   "codemirror_mode": {
    "name": "ipython",
    "version": 3
   },
   "file_extension": ".py",
   "mimetype": "text/x-python",
   "name": "python",
   "nbconvert_exporter": "python",
   "pygments_lexer": "ipython3",
   "version": "3.10.12"
  }
 },
 "nbformat": 4,
 "nbformat_minor": 2
}
